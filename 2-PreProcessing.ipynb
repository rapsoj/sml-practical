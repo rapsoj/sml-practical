{
 "cells": [
  {
   "cell_type": "markdown",
   "id": "42b17c62",
   "metadata": {},
   "source": [
    "# 2. Pre-Processing"
   ]
  },
  {
   "cell_type": "code",
   "execution_count": 1,
   "id": "9c227b0c",
   "metadata": {},
   "outputs": [],
   "source": [
    "# Import data manipulation libraries\n",
    "import numpy as np\n",
    "import pandas as pd\n",
    "\n",
    "# Import data visualisation libraries\n",
    "import matplotlib.pyplot as plt\n",
    "import matplotlib.ticker as mtick\n",
    "from matplotlib import rc\n",
    "import seaborn as sns\n",
    "\n",
    "# Import machine learning libraries\n",
    "from sklearn.preprocessing import StandardScaler\n",
    "from sklearn.decomposition import PCA\n",
    "\n",
    "# Set graph defaults\n",
    "plt.rc('font', family='serif', size=10)\n",
    "plt.rc('legend', fontsize=10)\n",
    "plt.rcParams['font.family'] = 'serif'\n",
    "plt.rcParams['font.serif'] = ['CMU Serif']\n",
    "plt.rcParams['axes.unicode_minus'] = False\n",
    "\n",
    "# Read in data\n",
    "X_train = pd.read_csv(\"X_train.csv\")\n",
    "y_train = pd.read_csv(\"y_train.csv\")\n",
    "\n",
    "# Read in data summary\n",
    "data_summary = pd.read_csv(\"data_summary.csv\", index_col=0)"
   ]
  },
  {
   "cell_type": "markdown",
   "id": "aa356595",
   "metadata": {},
   "source": [
    "### 2.1 Data Cleaning"
   ]
  },
  {
   "cell_type": "code",
   "execution_count": 2,
   "id": "66adc0be",
   "metadata": {},
   "outputs": [],
   "source": [
    "# Identify rows with missing data\n",
    "cols_missing = data_summary[data_summary[\"min\"] == -9999.0].index.to_list()\n",
    "rows_missing = []\n",
    "for i in cols_missing:\n",
    "    rows_missing = rows_missing + X_train[X_train[\"rowv\"] == -9999.0].index.to_list()\n",
    "\n",
    "# Remove rows with missing data\n",
    "X_train_clean = X_train.drop(rows_missing)\n",
    "\n",
    "# Identify rows with data more than five standard deviations away from the mean\n",
    "cols_outlier = []\n",
    "rows_outlier = []\n",
    "for i in X_train.columns.to_list():\n",
    "    diff = abs(X_train_clean[i] - data_summary.loc[i][\"mean\"]) / data_summary.loc[i][\"std\"]\n",
    "    diff_rows = diff[diff > 10].index.to_list()\n",
    "    rows_outlier = rows_outlier + diff_rows\n",
    "    if len(diff_rows) > 0:\n",
    "        cols_outlier.append(i)\n",
    "\n",
    "# Remove rows with outlier data\n",
    "X_train_clean = X_train_clean.drop(rows_outlier)\n",
    "\n",
    "# Scale data\n",
    "scaler = StandardScaler()\n",
    "scaler.fit(X_train_clean)\n",
    "X_train_clean = pd.DataFrame(scaler.transform(X_train_clean))\n",
    "X_train_clean.columns = X_train.columns"
   ]
  },
  {
   "cell_type": "markdown",
   "id": "a4e82346",
   "metadata": {},
   "source": [
    "### 2.2 PCA Dimensionality Reduction"
   ]
  },
  {
   "cell_type": "code",
   "execution_count": 7,
   "id": "cea4b5c3",
   "metadata": {},
   "outputs": [
    {
     "name": "stdout",
     "output_type": "stream",
     "text": [
      "Principal components:\n",
      "                    PCA1      PCA2      PCA3      PCA4      PCA5      PCA6  \\\n",
      "ra            -0.005654 -0.026821  0.008912  0.044455  0.037916  0.054907   \n",
      "dec           -0.012638 -0.212925  0.024009 -0.059096 -0.038083 -0.010142   \n",
      "rowv          -0.000142  0.000255 -0.009676  0.000278 -0.002782  0.001697   \n",
      "colv           0.000507 -0.003065 -0.005602  0.001141  0.003822 -0.000652   \n",
      "sky_u          0.013261  0.258823 -0.025575 -0.041666 -0.044011 -0.017615   \n",
      "...                 ...       ...       ...       ...       ...       ...   \n",
      "spectroFlux_u  0.164272 -0.021006 -0.075946 -0.020193 -0.001021  0.063013   \n",
      "spectroFlux_g  0.195593 -0.014495 -0.037030 -0.015529 -0.006908  0.080548   \n",
      "spectroFlux_r  0.199957 -0.007194  0.001552 -0.008805 -0.009781  0.077644   \n",
      "spectroFlux_i  0.197539 -0.002873  0.025363 -0.004186 -0.010785  0.070250   \n",
      "spectroFlux_z  0.193591  0.000874  0.046045  0.000826 -0.010928  0.058267   \n",
      "\n",
      "                   PCA7      PCA8      PCA9     PCA10  ...     PCA16  \\\n",
      "ra            -0.019208 -0.032171 -0.097698 -0.226849  ...  0.070099   \n",
      "dec            0.011249  0.159353 -0.127933  0.021230  ...  0.833041   \n",
      "rowv           0.019414 -0.023370 -0.023823  0.675488  ...  0.009699   \n",
      "colv           0.007351 -0.016830 -0.017980  0.698350  ...  0.004711   \n",
      "sky_u          0.011815  0.265321 -0.238565 -0.028040  ...  0.193376   \n",
      "...                 ...       ...       ...       ...  ...       ...   \n",
      "spectroFlux_u  0.227807 -0.172134 -0.204637 -0.019325  ... -0.002827   \n",
      "spectroFlux_g  0.176579 -0.010809 -0.011427 -0.006601  ...  0.001788   \n",
      "spectroFlux_r  0.118687  0.090617  0.112366  0.001852  ...  0.002121   \n",
      "spectroFlux_i  0.088473  0.129432  0.160794  0.005159  ...  0.002186   \n",
      "spectroFlux_z  0.067386  0.151453  0.189427  0.007069  ...  0.003039   \n",
      "\n",
      "                  PCA17     PCA18     PCA19     PCA20     PCA21     PCA22  \\\n",
      "ra            -0.009434  0.000547  0.014576  0.044396  0.110228  0.060009   \n",
      "dec            0.005300  0.022057  0.031757 -0.000399 -0.025439  0.176989   \n",
      "rowv           0.023690 -0.002947  0.008992 -0.003961  0.000787  0.000691   \n",
      "colv           0.007181  0.003969 -0.001025 -0.010634  0.005820  0.001448   \n",
      "sky_u         -0.007788  0.019358 -0.027439 -0.252678 -0.651361 -0.416502   \n",
      "...                 ...       ...       ...       ...       ...       ...   \n",
      "spectroFlux_u  0.277797  0.131640  0.011279  0.118516 -0.038560  0.011392   \n",
      "spectroFlux_g  0.066846  0.038490  0.005602  0.040903 -0.010740  0.004617   \n",
      "spectroFlux_r -0.051177 -0.018245  0.001051 -0.006473  0.005441  0.001535   \n",
      "spectroFlux_i -0.087650 -0.040153 -0.000351 -0.028405  0.013729  0.002125   \n",
      "spectroFlux_z -0.100900 -0.050655 -0.000447 -0.033581  0.015891  0.003814   \n",
      "\n",
      "                  PCA23     PCA24     PCA25  \n",
      "ra             0.009258  0.003619  0.000229  \n",
      "dec            0.083553  0.031160  0.015833  \n",
      "rowv           0.002781 -0.010046 -0.000977  \n",
      "colv          -0.002031  0.000811  0.000909  \n",
      "sky_u         -0.104325 -0.032543 -0.006575  \n",
      "...                 ...       ...       ...  \n",
      "spectroFlux_u -0.015789  0.018114  0.072323  \n",
      "spectroFlux_g -0.008817  0.010832  0.018067  \n",
      "spectroFlux_r -0.002544 -0.001399  0.019020  \n",
      "spectroFlux_i  0.001124 -0.011772  0.039060  \n",
      "spectroFlux_z  0.001461 -0.016929  0.060483  \n",
      "\n",
      "[63 rows x 25 columns]\n",
      "\n",
      " Eigenvalues/variance of the projections:\n",
      " [22.64711669  8.39955554  6.43716928  5.16268835  3.60791274  2.66263794\n",
      "  2.37471982  1.48397474  1.44237876  1.03544222  0.99181296  0.96540177\n",
      "  0.84765266  0.72511392  0.67869278  0.56746382  0.44157516  0.36698406\n",
      "  0.344368    0.24017904  0.2232954   0.19548948  0.1475121   0.13932235\n",
      "  0.12207739]\n",
      "\n",
      "Proportion of variance explained:\n",
      "  [0.3594744  0.13332493 0.10217625 0.0819466  0.05726788 0.04226367\n",
      " 0.03769358 0.02355492 0.02289467 0.01643542 0.0157429  0.01532368\n",
      " 0.01345467 0.01150963 0.01077279 0.00900727 0.00700906 0.00582508\n",
      " 0.0054661  0.00381233 0.00354434 0.00310298 0.00234144 0.00221144\n",
      " 0.00193772]\n"
     ]
    },
    {
     "data": {
      "image/png": "[encoded data removed]",
      "text/plain": [
       "<Figure size 432x288 with 1 Axes>"
      ]
     },
     "metadata": {
      "needs_background": "light"
     },
     "output_type": "display_data"
    }
   ],
   "source": [
    "# Get principal components\n",
    "K = 25\n",
    "columns= [\"PCA\" + str(i + 1) for i in range(K)]\n",
    "pca = PCA(n_components = K)\n",
    "pca.fit(X_train_clean)\n",
    "\n",
    "# Label principal components\n",
    "V = pd.DataFrame(data=pca.components_.T,\n",
    "                 columns=columns,\n",
    "                 index=X_train_clean.columns)\n",
    "print('Principal components:\\n', V) \n",
    "\n",
    "# Calculate eigenvalues of the projections\n",
    "lam = pca.explained_variance_\n",
    "print('\\n Eigenvalues/variance of the projections:\\n', lam)\n",
    "\n",
    "# Proportion of variance explained\n",
    "Normalised_lam = pca.explained_variance_ratio_\n",
    "print('\\nProportion of variance explained:\\n ', Normalised_lam)\n",
    "plt.figure()\n",
    "plt.bar(columns, Normalised_lam)\n",
    "plt.ylabel('Prop. Explained variance')\n",
    "\n",
    "# Compute the projections onto the principal components\n",
    "Z_pca = pca.transform(X_train_clean)\n",
    "X_train_clean_pca = pd.DataFrame(Z_pca, columns=columns)"
   ]
  },
  {
   "cell_type": "code",
   "execution_count": 9,
   "id": "2c7b29b6",
   "metadata": {},
   "outputs": [],
   "source": [
    "# Export data\n",
    "X_train_clean_pca.to_csv(\"X_train_clean_pca.csv\", index=True)"
   ]
  }
 ],
 "metadata": {
  "kernelspec": {
   "display_name": "Python 3 (ipykernel)",
   "language": "python",
   "name": "python3"
  },
  "language_info": {
   "codemirror_mode": {
    "name": "ipython",
    "version": 3
   },
   "file_extension": ".py",
   "mimetype": "text/x-python",
   "name": "python",
   "nbconvert_exporter": "python",
   "pygments_lexer": "ipython3",
   "version": "3.9.7"
  }
 },
 "nbformat": 4,
 "nbformat_minor": 5
}
