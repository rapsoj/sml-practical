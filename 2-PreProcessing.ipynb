{
 "cells": [
  {
   "cell_type": "markdown",
   "id": "42b17c62",
   "metadata": {},
   "source": [
    "# 2. Pre-Processing"
   ]
  },
  {
   "cell_type": "code",
   "execution_count": 47,
   "id": "9c227b0c",
   "metadata": {},
   "outputs": [],
   "source": [
    "# Import data manipulation libraries\n",
    "import numpy as np\n",
    "import pandas as pd\n",
    "\n",
    "# Import data visualisation libraries\n",
    "import matplotlib.pyplot as plt\n",
    "import matplotlib.ticker as mtick\n",
    "from matplotlib import rc\n",
    "import seaborn as sns\n",
    "\n",
    "# Import machine learning libraries\n",
    "from sklearn.preprocessing import StandardScaler\n",
    "from sklearn.decomposition import PCA\n",
    "\n",
    "# Set graph defaults\n",
    "plt.rc('font', family='serif', size=10)\n",
    "plt.rc('legend', fontsize=10)\n",
    "plt.rcParams['font.family'] = 'serif'\n",
    "plt.rcParams['font.serif'] = ['CMU Serif']\n",
    "plt.rcParams['axes.unicode_minus'] = False\n",
    "\n",
    "# Read in data\n",
    "X_train = pd.read_csv(\"X_train.csv\")\n",
    "y_train = pd.read_csv(\"y_train.csv\")\n",
    "\n",
    "# Read in data summary\n",
    "data_summary = pd.read_csv(\"data_summary.csv\", index_col=0)"
   ]
  },
  {
   "cell_type": "markdown",
   "id": "aa356595",
   "metadata": {},
   "source": [
    "### 2.1 Data Cleaning"
   ]
  },
  {
   "cell_type": "code",
   "execution_count": 48,
   "id": "66adc0be",
   "metadata": {},
   "outputs": [],
   "source": [
    "# Identify rows with missing data\n",
    "cols_missing = data_summary[data_summary[\"min\"] == -9999.0].index.to_list()\n",
    "rows_missing = []\n",
    "for i in cols_missing:\n",
    "    rows_missing = rows_missing + X_train[X_train[i] == -9999.0].index.to_list()\n",
    "\n",
    "# Remove rows with missing data\n",
    "X_train_clean = X_train.drop(rows_missing)\n",
    "\n",
    "# Identify rows with data more than five standard deviations away from the mean\n",
    "#cols_outlier = []\n",
    "#rows_outlier = []\n",
    "#for i in X_train.columns.to_list():\n",
    "#    diff = abs(X_train_clean[i] - data_summary.loc[i][\"mean\"]) / data_summary.loc[i][\"std\"]\n",
    "#    diff_rows = diff[diff > 10].index.to_list()\n",
    "#    rows_outlier = rows_outlier + diff_rows\n",
    "#    if len(diff_rows) > 0:\n",
    "#        cols_outlier.append(i)\n",
    "\n",
    "# Remove rows with outlier data\n",
    "#X_train_clean = X_train_clean.drop(rows_outlier)\n",
    "\n",
    "# Scale data\n",
    "scaler = StandardScaler()\n",
    "scaler.fit(X_train_clean)\n",
    "X_train_clean = pd.DataFrame(scaler.transform(X_train_clean))\n",
    "X_train_clean.columns = X_train.columns"
   ]
  },
  {
   "cell_type": "markdown",
   "id": "a4e82346",
   "metadata": {},
   "source": [
    "### 2.2 PCA Dimensionality Reduction"
   ]
  },
  {
   "cell_type": "code",
   "execution_count": 49,
   "id": "cea4b5c3",
   "metadata": {},
   "outputs": [
    {
     "name": "stdout",
     "output_type": "stream",
     "text": [
      "Principal components:\n",
      "                    PCA1      PCA2      PCA3      PCA4      PCA5      PCA6  \\\n",
      "ra            -0.004531 -0.036905  0.002115  0.007312  0.026620  0.010845   \n",
      "dec           -0.015847 -0.208002 -0.004290  0.025724 -0.038644  0.044485   \n",
      "rowv          -0.001135 -0.000004  0.004042 -0.014706 -0.002902 -0.001041   \n",
      "colv          -0.000500 -0.001206 -0.003759  0.013056  0.002339 -0.001042   \n",
      "sky_u          0.022561  0.245827  0.016822 -0.011911 -0.023731 -0.033620   \n",
      "...                 ...       ...       ...       ...       ...       ...   \n",
      "spectroFlux_u  0.173694 -0.032986  0.105386 -0.035422 -0.046806 -0.016862   \n",
      "spectroFlux_g  0.173732 -0.040865  0.249239  0.046508 -0.038433 -0.037589   \n",
      "spectroFlux_r  0.154884 -0.037707  0.279973  0.073927 -0.025644 -0.037915   \n",
      "spectroFlux_i  0.149290 -0.034486  0.280239  0.081080 -0.017938 -0.034509   \n",
      "spectroFlux_z  0.145692 -0.032116  0.276176  0.085992 -0.013497 -0.032042   \n",
      "\n",
      "                   PCA7      PCA8      PCA9     PCA10  ...     PCA16  \\\n",
      "ra             0.038066  0.051966 -0.008772  0.415133  ... -0.228385   \n",
      "dec           -0.013442  0.159108  0.013109 -0.122971  ... -0.472195   \n",
      "rowv           0.003667  0.008341  0.008770  0.026719  ... -0.020039   \n",
      "colv          -0.018054  0.013708  0.043710 -0.403563  ... -0.011105   \n",
      "sky_u         -0.057328  0.377519 -0.054042  0.065034  ...  0.203588   \n",
      "...                 ...       ...       ...       ...  ...       ...   \n",
      "spectroFlux_u -0.060840  0.034278  0.372998  0.217975  ... -0.003053   \n",
      "spectroFlux_g -0.014956  0.001360  0.060600  0.096556  ... -0.011700   \n",
      "spectroFlux_r  0.006217 -0.015099 -0.098768 -0.004338  ... -0.009525   \n",
      "spectroFlux_i  0.012418 -0.019221 -0.148751 -0.042108  ... -0.006449   \n",
      "spectroFlux_z  0.015023 -0.020090 -0.179706 -0.067495  ... -0.002518   \n",
      "\n",
      "                  PCA17     PCA18     PCA19     PCA20     PCA21     PCA22  \\\n",
      "ra            -0.108959  0.058071 -0.081997  0.012088  0.016248  0.015265   \n",
      "dec            0.002909  0.010871 -0.762260  0.034576  0.039978  0.024988   \n",
      "rowv          -0.000429  0.019961 -0.012130 -0.018833  0.009063  0.006052   \n",
      "colv          -0.030514  0.031840  0.002074  0.010235 -0.022552 -0.004354   \n",
      "sky_u          0.025446  0.005220 -0.257288  0.023971 -0.060861 -0.040505   \n",
      "...                 ...       ...       ...       ...       ...       ...   \n",
      "spectroFlux_u  0.012121  0.032585  0.026984  0.003971  0.002610 -0.017804   \n",
      "spectroFlux_g  0.043211  0.057613  0.015151  0.011124  0.035737 -0.004177   \n",
      "spectroFlux_r  0.053029  0.014571  0.005087  0.003046  0.025507 -0.002134   \n",
      "spectroFlux_i  0.051565 -0.003535  0.000491 -0.000106  0.020267 -0.000939   \n",
      "spectroFlux_z  0.046613 -0.013860 -0.001366 -0.002076  0.016789 -0.000330   \n",
      "\n",
      "                  PCA23     PCA24     PCA25  \n",
      "ra             0.126662 -0.002523 -0.021882  \n",
      "dec            0.063869  0.054114  0.032740  \n",
      "rowv           0.002223  0.000702 -0.007419  \n",
      "colv           0.008350  0.010095 -0.012173  \n",
      "sky_u         -0.610004  0.056229  0.137211  \n",
      "...                 ...       ...       ...  \n",
      "spectroFlux_u  0.036492  0.172473  0.111702  \n",
      "spectroFlux_g  0.041179  0.122418  0.136605  \n",
      "spectroFlux_r  0.045154  0.117355  0.148191  \n",
      "spectroFlux_i  0.045369  0.113684  0.153445  \n",
      "spectroFlux_z  0.045402  0.115474  0.161854  \n",
      "\n",
      "[63 rows x 25 columns]\n",
      "\n",
      " Eigenvalues/variance of the projections:\n",
      " [17.10043207  7.40961795  6.21784062  5.21747139  4.85247303  4.07766202\n",
      "  2.07560331  1.82563826  1.64186304  1.0692645   1.01251449  0.99930674\n",
      "  0.98750541  0.9613053   0.79558923  0.77579858  0.69033447  0.64989564\n",
      "  0.60921978  0.52570812  0.42718837  0.33753101  0.32591537  0.30779121\n",
      "  0.30367554]\n"
     ]
    }
   ],
   "source": [
    "# Get principal components\n",
    "K = 25\n",
    "columns= [\"PCA\" + str(i + 1) for i in range(K)]\n",
    "pca = PCA(n_components = K)\n",
    "pca.fit(X_train_clean)\n",
    "\n",
    "# Label principal components\n",
    "V = pd.DataFrame(data=pca.components_.T,\n",
    "                 columns=columns,\n",
    "                 index=X_train_clean.columns)\n",
    "print('Principal components:\\n', V) \n",
    "\n",
    "# Calculate eigenvalues of the projections\n",
    "lam = pca.explained_variance_\n",
    "print('\\n Eigenvalues/variance of the projections:\\n', lam)\n",
    "\n",
    "# Compute the projections onto the principal components\n",
    "Z_pca = pca.transform(X_train_clean)\n",
    "X_train_clean_pca = pd.DataFrame(Z_pca, columns=columns)"
   ]
  },
  {
   "cell_type": "code",
   "execution_count": 58,
   "id": "560a2285",
   "metadata": {},
   "outputs": [
    {
     "data": {
      "image/png": "[encoded data removed]",
      "text/plain": [
       "<Figure size 432x288 with 1 Axes>"
      ]
     },
     "metadata": {},
     "output_type": "display_data"
    }
   ],
   "source": [
    "# Create scree plot to determine the optimal number of principal components\n",
    "ax = sns.lineplot(y=pca.explained_variance_ratio_ * 100, x=range(1, 26),\n",
    "                  marker='o', color=\"#a74779\")\n",
    "ax.set(title = \"\",\n",
    "       ylabel = \"Proportion of Variance Explained\", xlabel = \"Number of Components\")\n",
    "sns.set(font=\"CMU Serif\", style=\"whitegrid\")\n",
    "ax.yaxis.set_major_formatter(mtick.PercentFormatter())\n",
    "sns.despine(left=True, bottom=True)\n",
    "ax\n",
    "\n",
    "# Export plot\n",
    "fig = ax.get_figure()\n",
    "fig.savefig(\"scree.png\", dpi=1200, bbox_inches=\"tight\") "
   ]
  },
  {
   "cell_type": "code",
   "execution_count": 56,
   "id": "a63bd1e5",
   "metadata": {},
   "outputs": [
    {
     "data": {
      "image/png": "[encoded data removed]",
      "text/plain": [
       "<Figure size 432x288 with 2 Axes>"
      ]
     },
     "metadata": {},
     "output_type": "display_data"
    }
   ],
   "source": [
    "# Plot correlation matrix\n",
    "mask = np.triu(np.ones_like(X_train_clean_pca.corr()))\n",
    "ax = sns.heatmap(X_train_clean_pca.corr(), mask=mask, cmap=\"magma\")\n",
    "ax.set(title = \"\",\n",
    "       ylabel = \"Principal Components\", xlabel = \"Principal Components\")\n",
    "sns.set(font=\"CMU Serif\", style=\"whitegrid\")\n",
    "sns.despine(left=True, bottom=True)\n",
    "ax\n",
    "\n",
    "# Export plot\n",
    "fig = ax.get_figure()\n",
    "fig.savefig(\"correlation2.png\", dpi=800, bbox_inches=\"tight\") "
   ]
  },
  {
   "cell_type": "code",
   "execution_count": 51,
   "id": "de7e206f",
   "metadata": {},
   "outputs": [],
   "source": [
    "# Export data\n",
    "X_train_clean_pca.to_csv(\"X_train_clean_pca.csv\", index=True)"
   ]
  }
 ],
 "metadata": {
  "kernelspec": {
   "display_name": "Python 3 (ipykernel)",
   "language": "python",
   "name": "python3"
  },
  "language_info": {
   "codemirror_mode": {
    "name": "ipython",
    "version": 3
   },
   "file_extension": ".py",
   "mimetype": "text/x-python",
   "name": "python",
   "nbconvert_exporter": "python",
   "pygments_lexer": "ipython3",
   "version": "3.9.7"
  }
 },
 "nbformat": 4,
 "nbformat_minor": 5
}
