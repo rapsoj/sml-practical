{
 "cells": [
  {
   "cell_type": "markdown",
   "id": "42b17c62",
   "metadata": {},
   "source": [
    "# 2. Pre-Processing"
   ]
  },
  {
   "cell_type": "code",
   "execution_count": 2,
   "id": "9c227b0c",
   "metadata": {},
   "outputs": [],
   "source": [
    "# Import data manipulation libraries\n",
    "import numpy as np\n",
    "import pandas as pd\n",
    "\n",
    "# Import data visualisation libraries\n",
    "import matplotlib.pyplot as plt\n",
    "import matplotlib.ticker as mtick\n",
    "from matplotlib import rc\n",
    "import seaborn as sns\n",
    "\n",
    "# Import machine learning libraries\n",
    "from sklearn.preprocessing import StandardScaler\n",
    "from sklearn.decomposition import PCA\n",
    "\n",
    "# Set graph defaults\n",
    "plt.rc('font', family='serif', size=10)\n",
    "plt.rc('legend', fontsize=10)\n",
    "plt.rcParams['font.family'] = 'serif'\n",
    "plt.rcParams['font.serif'] = ['CMU Serif']\n",
    "plt.rcParams['axes.unicode_minus'] = False\n",
    "\n",
    "# Read in data\n",
    "X_train = pd.read_csv(\"X_train.csv\")\n",
    "y_train = pd.read_csv(\"y_train.csv\")\n",
    "\n",
    "# Read in data summary\n",
    "data_summary = pd.read_csv(\"data_summary.csv\", index_col=0)"
   ]
  },
  {
   "cell_type": "markdown",
   "id": "aa356595",
   "metadata": {},
   "source": [
    "### 2.1 Data Cleaning"
   ]
  },
  {
   "cell_type": "code",
   "execution_count": 43,
   "id": "66adc0be",
   "metadata": {},
   "outputs": [],
   "source": [
    "# Identify rows with missing data\n",
    "cols_missing = data_summary[data_summary[\"min\"] == -9999.0].index.to_list()\n",
    "rows_missing = []\n",
    "for i in cols_missing:\n",
    "    rows_missing = rows_missing + X_train[X_train[\"rowv\"] == -9999.0].index.to_list()\n",
    "\n",
    "# Remove rows with missing data\n",
    "X_train_clean = X_train.drop(rows_missing)\n",
    "\n",
    "# Identify rows with data more than five standard deviations away from the mean\n",
    "#cols_outlier = []\n",
    "#rows_outlier = []\n",
    "#for i in X_train.columns.to_list():\n",
    "#    diff = abs(X_train_clean[i] - data_summary.loc[i][\"mean\"]) / data_summary.loc[i][\"std\"]\n",
    "#    diff_rows = diff[diff > 10].index.to_list()\n",
    "#    rows_outlier = rows_outlier + diff_rows\n",
    "#    if len(diff_rows) > 0:\n",
    "#        cols_outlier.append(i)\n",
    "\n",
    "# Remove rows with outlier data\n",
    "#X_train_clean = X_train_clean.drop(rows_outlier)\n",
    "\n",
    "# Scale data\n",
    "scaler = StandardScaler()\n",
    "scaler.fit(X_train_clean)\n",
    "X_train_clean = pd.DataFrame(scaler.transform(X_train_clean))\n",
    "X_train_clean.columns = X_train.columns"
   ]
  },
  {
   "cell_type": "markdown",
   "id": "a4e82346",
   "metadata": {},
   "source": [
    "### 2.2 PCA Dimensionality Reduction"
   ]
  },
  {
   "cell_type": "code",
   "execution_count": 44,
   "id": "cea4b5c3",
   "metadata": {},
   "outputs": [
    {
     "name": "stdout",
     "output_type": "stream",
     "text": [
      "Principal components:\n",
      "                    PCA1      PCA2      PCA3      PCA4      PCA5      PCA6  \\\n",
      "ra            -0.004875 -0.037061  0.000024  0.002877  0.025542 -0.014981   \n",
      "dec           -0.017665 -0.208113  0.001607  0.013824 -0.043098 -0.035325   \n",
      "rowv          -0.000163  0.000157  0.001132 -0.004703 -0.000048  0.014859   \n",
      "colv          -0.000896 -0.001325 -0.000231  0.002813 -0.000947 -0.014958   \n",
      "sky_u          0.027667  0.245862 -0.004800  0.008002 -0.018170  0.030079   \n",
      "...                 ...       ...       ...       ...       ...       ...   \n",
      "spectroFlux_u  0.208207 -0.033614 -0.008250  0.019887 -0.037763  0.042018   \n",
      "spectroFlux_g  0.219767 -0.042848 -0.021733  0.204036  0.008991  0.078662   \n",
      "spectroFlux_r  0.200631 -0.040020 -0.024850  0.254931  0.031905  0.081813   \n",
      "spectroFlux_i  0.193903 -0.036864 -0.024985  0.261095  0.039952  0.076138   \n",
      "spectroFlux_z  0.189053 -0.034525 -0.024696  0.261552  0.043340  0.069971   \n",
      "\n",
      "                   PCA7      PCA8      PCA9     PCA10  ...     PCA16  \\\n",
      "ra             0.004016  0.038249  0.052574  0.006563  ... -0.122022   \n",
      "dec            0.028652 -0.010563  0.156238  0.030046  ... -0.199847   \n",
      "rowv           0.009369  0.003853  0.008249  0.019346  ... -0.024686   \n",
      "colv          -0.013331 -0.016221  0.007375  0.039582  ...  0.070512   \n",
      "sky_u         -0.022711 -0.053893  0.383384  0.010452  ...  0.084374   \n",
      "...                 ...       ...       ...       ...  ...       ...   \n",
      "spectroFlux_u -0.003566 -0.045661 -0.012329  0.421996  ...  0.023965   \n",
      "spectroFlux_g  0.014754 -0.015027 -0.002939  0.112825  ...  0.013021   \n",
      "spectroFlux_r  0.023373 -0.000690  0.000837 -0.066451  ... -0.000093   \n",
      "spectroFlux_i  0.025028  0.003668  0.002621 -0.128440  ... -0.004528   \n",
      "spectroFlux_z  0.024312  0.005278  0.005215 -0.168875  ... -0.006362   \n",
      "\n",
      "                  PCA17     PCA18     PCA19     PCA20     PCA21     PCA22  \\\n",
      "ra            -0.205738 -0.123836 -0.080032  0.007725  0.007564  0.020819   \n",
      "dec           -0.432623 -0.007005 -0.760563  0.013511  0.050554  0.016325   \n",
      "rowv          -0.013626 -0.008604 -0.010966 -0.021851  0.010886  0.001804   \n",
      "colv          -0.026798 -0.036372  0.005081  0.010563  0.017273 -0.012799   \n",
      "sky_u          0.190414  0.019465 -0.254804  0.018271  0.054188 -0.102893   \n",
      "...                 ...       ...       ...       ...       ...       ...   \n",
      "spectroFlux_u -0.003144 -0.004839  0.027771  0.004933 -0.049683  0.022368   \n",
      "spectroFlux_g -0.011068  0.022034  0.020158 -0.003868  0.110103  0.011756   \n",
      "spectroFlux_r -0.009292  0.048427  0.008123 -0.007239  0.105181  0.004243   \n",
      "spectroFlux_i -0.006462  0.053819  0.002457 -0.007883  0.098189  0.000655   \n",
      "spectroFlux_z -0.002893  0.052998 -0.000090 -0.008270  0.094207 -0.002101   \n",
      "\n",
      "                  PCA23     PCA24     PCA25  \n",
      "ra             0.018318  0.126037 -0.012040  \n",
      "dec            0.027632  0.062258  0.065104  \n",
      "rowv           0.006409  0.002206 -0.004194  \n",
      "colv          -0.004052  0.007785  0.000819  \n",
      "sky_u         -0.053325 -0.606169  0.109596  \n",
      "...                 ...       ...       ...  \n",
      "spectroFlux_u -0.011886  0.025828  0.223845  \n",
      "spectroFlux_g  0.001193  0.041318  0.167627  \n",
      "spectroFlux_r  0.002334  0.046213  0.164124  \n",
      "spectroFlux_i  0.003039  0.046897  0.161142  \n",
      "spectroFlux_z  0.003387  0.047213  0.165344  \n",
      "\n",
      "[63 rows x 25 columns]\n",
      "\n",
      " Eigenvalues/variance of the projections:\n",
      " [13.95820394  7.40638801  6.00139912  5.26058154  4.83214209  4.28475865\n",
      "  3.93834184  2.07302759  1.81668797  1.40757047  1.04975131  1.01017079\n",
      "  0.99890214  0.96779163  0.95209581  0.78647431  0.77430991  0.68384382\n",
      "  0.60909503  0.52330224  0.43346565  0.36555317  0.33652276  0.32369961\n",
      "  0.30347588]\n"
     ]
    }
   ],
   "source": [
    "# Get principal components\n",
    "K = 25\n",
    "columns= [\"PCA\" + str(i + 1) for i in range(K)]\n",
    "pca = PCA(n_components = K)\n",
    "pca.fit(X_train_clean)\n",
    "\n",
    "# Label principal components\n",
    "V = pd.DataFrame(data=pca.components_.T,\n",
    "                 columns=columns,\n",
    "                 index=X_train_clean.columns)\n",
    "print('Principal components:\\n', V) \n",
    "\n",
    "# Calculate eigenvalues of the projections\n",
    "lam = pca.explained_variance_\n",
    "print('\\n Eigenvalues/variance of the projections:\\n', lam)\n",
    "\n",
    "# Compute the projections onto the principal components\n",
    "Z_pca = pca.transform(X_train_clean)\n",
    "X_train_clean_pca = pd.DataFrame(Z_pca, columns=columns)"
   ]
  },
  {
   "cell_type": "code",
   "execution_count": 45,
   "id": "effe35a2",
   "metadata": {},
   "outputs": [
    {
     "data": {
      "image/png": "[encoded data removed]",
      "text/plain": [
       "<Figure size 432x288 with 1 Axes>"
      ]
     },
     "metadata": {},
     "output_type": "display_data"
    }
   ],
   "source": [
    "# Create scree plot to determine the optimal number of principal components\n",
    "ax = sns.lineplot(y=pca.explained_variance_ratio_ * 100, x=range(25), marker='o', color=\"#a74779\")\n",
    "ax.set(title = \"\",\n",
    "       ylabel = \"Proportion of Variance Explained\", xlabel = \"Number of Components\")\n",
    "sns.set(font=\"CMU Serif\", style=\"whitegrid\")\n",
    "ax.yaxis.set_major_formatter(mtick.PercentFormatter())\n",
    "sns.despine(left=True, bottom=True)\n",
    "ax\n",
    "\n",
    "# Export plot\n",
    "fig = ax.get_figure()\n",
    "fig.savefig(\"scree.png\", dpi=1200, bbox_inches=\"tight\") "
   ]
  },
  {
   "cell_type": "code",
   "execution_count": 9,
   "id": "de7e206f",
   "metadata": {},
   "outputs": [],
   "source": [
    "# Export data\n",
    "X_train_clean_pca.to_csv(\"X_train_clean_pca.csv\", index=True)"
   ]
  },
  {
   "cell_type": "code",
   "execution_count": null,
   "id": "d89c5e48",
   "metadata": {},
   "outputs": [],
   "source": []
  }
 ],
 "metadata": {
  "kernelspec": {
   "display_name": "Python 3 (ipykernel)",
   "language": "python",
   "name": "python3"
  },
  "language_info": {
   "codemirror_mode": {
    "name": "ipython",
    "version": 3
   },
   "file_extension": ".py",
   "mimetype": "text/x-python",
   "name": "python",
   "nbconvert_exporter": "python",
   "pygments_lexer": "ipython3",
   "version": "3.9.7"
  }
 },
 "nbformat": 4,
 "nbformat_minor": 5
}
