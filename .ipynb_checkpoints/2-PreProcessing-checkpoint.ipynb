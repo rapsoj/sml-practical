{
 "cells": [
  {
   "cell_type": "markdown",
   "metadata": {},
   "source": [
    "# 2. Pre-Processing"
   ]
  },
  {
   "cell_type": "code",
   "execution_count": 1,
   "metadata": {},
   "outputs": [],
   "source": [
    "# Import data manipulation libraries\n",
    "import numpy as np\n",
    "import pandas as pd\n",
    "\n",
    "# Import data visualisation libraries\n",
    "import matplotlib.pyplot as plt\n",
    "import matplotlib.ticker as mtick\n",
    "from matplotlib import rc\n",
    "import seaborn as sns\n",
    "\n",
    "# Import machine learning libraries\n",
    "from sklearn.preprocessing import StandardScaler\n",
    "from sklearn.decomposition import PCA\n",
    "from sklearn.model_selection import train_test_split\n",
    "\n",
    "# Set graph defaults\n",
    "plt.rc('font', family='serif', size=10)\n",
    "plt.rc('legend', fontsize=10)\n",
    "plt.rcParams['font.family'] = 'serif'\n",
    "plt.rcParams['font.serif'] = ['CMU Serif']\n",
    "plt.rcParams['axes.unicode_minus'] = False\n",
    "\n",
    "# Read in data\n",
    "X_train = pd.read_csv(\"X_train.csv\")\n",
    "y_train = pd.read_csv(\"y_train.csv\")\n",
    "\n",
    "# Read in data summary\n",
    "data_summary = pd.read_csv(\"data_summary.csv\", index_col=0)"
   ]
  },
  {
   "cell_type": "markdown",
   "metadata": {},
   "source": [
    "### 2.1 Data Cleaning"
   ]
  },
  {
   "cell_type": "code",
   "execution_count": 2,
   "metadata": {},
   "outputs": [],
   "source": [
    "# Identify rows with missing data\n",
    "cols_missing = data_summary[data_summary[\"min\"] == -9999.0].index.to_list()\n",
    "rows_missing = []\n",
    "for i in cols_missing:\n",
    "    rows_missing = rows_missing + X_train[X_train[\"rowv\"] == -9999.0].index.to_list()\n",
    "\n",
    "# Remove rows with missing data\n",
    "X_train_clean = X_train.drop(rows_missing)\n",
    "y_train_clean = y_train.drop(rows_missing)\n",
    "\n",
    "# Identify rows with data more than five standard deviations away from the mean\n",
    "cols_outlier = []\n",
    "rows_outlier = []\n",
    "for i in X_train.columns.to_list():\n",
    "    diff = abs(X_train_clean[i] - data_summary.loc[i][\"mean\"]) / data_summary.loc[i][\"std\"]\n",
    "    diff_rows = diff[diff > 10].index.to_list()\n",
    "    rows_outlier = rows_outlier + diff_rows\n",
    "    if len(diff_rows) > 0:\n",
    "        cols_outlier.append(i)\n",
    "\n",
    "# Remove rows with outlier data\n",
    "X_train_clean = X_train_clean.drop(rows_outlier)\n",
    "y_train_clean = y_train_clean.drop(rows_outlier)\n",
    "\n",
    "# Split into training and validation sets\n",
    "X_train_clean, X_valid_clean, y_train_clean, y_valid_clean = train_test_split(X_train_clean, y_train_clean, test_size=0.2, random_state=0)\n",
    "\n",
    "# Scale data\n",
    "scaler = StandardScaler()\n",
    "scaler.fit(X_train_clean)\n",
    "\n",
    "X_train_clean = pd.DataFrame(scaler.transform(X_train_clean))\n",
    "X_valid_clean = pd.DataFrame(scaler.transform(X_valid_clean))\n",
    "\n",
    "X_train_clean.columns = X_train.columns\n",
    "X_valid_clean.columns = X_train.columns"
   ]
  },
  {
   "cell_type": "markdown",
   "metadata": {},
   "source": [
    "### 2.2 PCA Dimensionality Reduction"
   ]
  },
  {
   "cell_type": "code",
   "execution_count": 3,
   "metadata": {},
   "outputs": [
    {
     "name": "stderr",
     "output_type": "stream",
     "text": [
      "findfont: Font family ['serif'] not found. Falling back to DejaVu Sans.\n"
     ]
    },
    {
     "name": "stdout",
     "output_type": "stream",
     "text": [
      "Principal components:\n",
      "                    PCA1      PCA2      PCA3      PCA4      PCA5      PCA6  \\\n",
      "ra            -0.006179 -0.025758  0.009835  0.044049  0.037627  0.054422   \n",
      "dec           -0.012596 -0.213133  0.026980 -0.058264 -0.040805 -0.010190   \n",
      "rowv           0.000018 -0.000344 -0.009405  0.000266 -0.003303  0.002359   \n",
      "colv           0.000652 -0.004521 -0.002982  0.001278  0.003326 -0.001341   \n",
      "sky_u          0.012950  0.258276 -0.029203 -0.042759 -0.045559 -0.017209   \n",
      "...                 ...       ...       ...       ...       ...       ...   \n",
      "spectroFlux_u  0.164318 -0.021698 -0.075562 -0.020206 -0.001600  0.062097   \n",
      "spectroFlux_g  0.195540 -0.014787 -0.037271 -0.015582 -0.007419  0.080325   \n",
      "spectroFlux_r  0.199964 -0.007255  0.001099 -0.008836 -0.010208  0.078117   \n",
      "spectroFlux_i  0.197606 -0.002730  0.024876 -0.004163 -0.011163  0.071035   \n",
      "spectroFlux_z  0.193671  0.001229  0.045598  0.000897 -0.011360  0.059223   \n",
      "\n",
      "                   PCA7      PCA8      PCA9     PCA10  ...     PCA16  \\\n",
      "ra            -0.018939 -0.028635 -0.102315 -0.242016  ...  0.073044   \n",
      "dec            0.010062  0.173450 -0.105302  0.023503  ...  0.836119   \n",
      "rowv           0.018311 -0.023264 -0.026931  0.668456  ...  0.007431   \n",
      "colv           0.010246 -0.021624 -0.025699  0.698826  ...  0.010556   \n",
      "sky_u          0.010858  0.292559 -0.203182 -0.028895  ...  0.190997   \n",
      "...                 ...       ...       ...       ...  ...       ...   \n",
      "spectroFlux_u  0.225733 -0.145564 -0.225342 -0.023122  ... -0.001684   \n",
      "spectroFlux_g  0.176304 -0.010164 -0.014576 -0.007980  ...  0.001546   \n",
      "spectroFlux_r  0.119913  0.075006  0.120862  0.002292  ...  0.001259   \n",
      "spectroFlux_i  0.090174  0.107654  0.174278  0.006365  ...  0.001188   \n",
      "spectroFlux_z  0.069318  0.126094  0.205899  0.008756  ...  0.002004   \n",
      "\n",
      "                  PCA17     PCA18     PCA19     PCA20     PCA21     PCA22  \\\n",
      "ra            -0.010081  0.000198  0.014848  0.047694  0.110611  0.055685   \n",
      "dec            0.006674  0.020882  0.030057  0.005243 -0.021486  0.177133   \n",
      "rowv           0.024148 -0.004396  0.008699 -0.001796 -0.000554  0.001674   \n",
      "colv           0.007308  0.005004  0.000992 -0.013534  0.008348  0.005007   \n",
      "sky_u         -0.010642  0.019390 -0.026758 -0.269220 -0.661609 -0.388220   \n",
      "...                 ...       ...       ...       ...       ...       ...   \n",
      "spectroFlux_u  0.282081  0.125682  0.009674  0.121339 -0.038479  0.009794   \n",
      "spectroFlux_g  0.068184  0.037273  0.004712  0.042387 -0.009500  0.004661   \n",
      "spectroFlux_r -0.052129 -0.016895  0.001032 -0.005756  0.006771  0.002653   \n",
      "spectroFlux_i -0.089801 -0.038283  0.000337 -0.027967  0.014811  0.003229   \n",
      "spectroFlux_z -0.103830 -0.048534  0.000670 -0.033070  0.016752  0.004996   \n",
      "\n",
      "                  PCA23     PCA24     PCA25  \n",
      "ra             0.010204  0.004131  0.000695  \n",
      "dec            0.082781  0.036354  0.014639  \n",
      "rowv           0.004065 -0.010388 -0.000804  \n",
      "colv          -0.002760  0.001105  0.001183  \n",
      "sky_u         -0.109750 -0.037260 -0.005902  \n",
      "...                 ...       ...       ...  \n",
      "spectroFlux_u -0.023908  0.021005  0.078994  \n",
      "spectroFlux_g -0.011480  0.011187  0.020653  \n",
      "spectroFlux_r -0.003199 -0.000993  0.020861  \n",
      "spectroFlux_i  0.000652 -0.010745  0.041813  \n",
      "spectroFlux_z  0.000256 -0.015060  0.064172  \n",
      "\n",
      "[63 rows x 25 columns]\n",
      "\n",
      " Eigenvalues/variance of the projections:\n",
      " [22.63082557  8.40645603  6.45085954  5.17282059  3.5957921   2.66328379\n",
      "  2.39148665  1.48094304  1.43896407  1.03222338  0.9919154   0.96878276\n",
      "  0.84847586  0.72504188  0.67545281  0.56677246  0.43856007  0.35807796\n",
      "  0.34279537  0.24042653  0.22345693  0.19610503  0.14755863  0.14030471\n",
      "  0.1228526 ]\n",
      "\n",
      "Proportion of variance explained:\n",
      "  [0.3592149  0.13343412 0.1023933  0.08210722 0.05707534 0.04227381\n",
      " 0.03795962 0.02350673 0.02284041 0.01638429 0.01574449 0.01537731\n",
      " 0.0134677  0.01150846 0.01072134 0.00899627 0.00696118 0.00568371\n",
      " 0.00544113 0.00381625 0.00354689 0.00311274 0.00234217 0.00222703\n",
      " 0.00195002]\n"
     ]
    },
    {
     "name": "stderr",
     "output_type": "stream",
     "text": [
      "findfont: Generic family 'serif' not found because none of the following families were found: CMU Serif\n"
     ]
    },
    {
     "data": {
      "image/png": "[encoded data removed]",
      "text/plain": [
       "<Figure size 1440x720 with 1 Axes>"
      ]
     },
     "metadata": {
      "needs_background": "light"
     },
     "output_type": "display_data"
    }
   ],
   "source": [
    "# Get principal components\n",
    "K = 25\n",
    "columns= [\"PCA\" + str(i + 1) for i in range(K)]\n",
    "pca = PCA(n_components = K)\n",
    "pca.fit(X_train_clean)\n",
    "\n",
    "# Label principal components\n",
    "V = pd.DataFrame(data=pca.components_.T,\n",
    "                 columns=columns,\n",
    "                 index=X_train_clean.columns)\n",
    "print('Principal components:\\n', V) \n",
    "\n",
    "# Calculate eigenvalues of the projections\n",
    "lam = pca.explained_variance_\n",
    "print('\\n Eigenvalues/variance of the projections:\\n', lam)\n",
    "\n",
    "# Proportion of variance explained\n",
    "Normalised_lam = pca.explained_variance_ratio_\n",
    "print('\\nProportion of variance explained:\\n ', Normalised_lam)\n",
    "plt.figure(figsize=(20, 10))\n",
    "plt.bar(columns, Normalised_lam)\n",
    "plt.ylabel('Prop. Explained variance')\n",
    "\n",
    "# Compute the projections onto the principal components\n",
    "Z_train_pca = pca.transform(X_train_clean)\n",
    "Z_valid_pca = pca.transform(X_valid_clean)\n",
    "X_train_clean_pca = pd.DataFrame(Z_train_pca, columns=columns)\n",
    "X_valid_clean_pca = pd.DataFrame(Z_valid_pca, columns=columns)"
   ]
  },
  {
   "cell_type": "code",
   "execution_count": 5,
   "metadata": {},
   "outputs": [],
   "source": [
    "# Export data\n",
    "X_train_clean_pca.to_csv(\"X_train_clean_pca.csv\", index=False)\n",
    "X_valid_clean_pca.to_csv(\"X_valid_clean_pca.csv\", index=False)\n",
    "\n",
    "y_train_clean.to_csv(\"y_train_clean.csv\", index=False)\n",
    "y_valid_clean.to_csv(\"y_valid_clean.csv\", index=False)"
   ]
  },
  {
   "cell_type": "code",
   "execution_count": null,
   "metadata": {},
   "outputs": [],
   "source": []
  }
 ],
 "metadata": {
  "kernelspec": {
   "display_name": "Python 3",
   "language": "python",
   "name": "python3"
  },
  "language_info": {
   "codemirror_mode": {
    "name": "ipython",
    "version": 3
   },
   "file_extension": ".py",
   "mimetype": "text/x-python",
   "name": "python",
   "nbconvert_exporter": "python",
   "pygments_lexer": "ipython3",
   "version": "3.7.4"
  }
 },
 "nbformat": 4,
 "nbformat_minor": 5
}
